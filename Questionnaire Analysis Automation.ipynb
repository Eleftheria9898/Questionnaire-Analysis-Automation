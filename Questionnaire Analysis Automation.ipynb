{
 "cells": [
  {
   "cell_type": "markdown",
   "metadata": {},
   "source": [
    "# QUESTIONNAIRE ANALYSIS AUTOMATION"
   ]
  },
  {
   "cell_type": "markdown",
   "metadata": {},
   "source": [
    "## Import Libraries "
   ]
  },
  {
   "cell_type": "code",
   "execution_count": null,
   "metadata": {},
   "outputs": [],
   "source": [
    "import pandas as pd # library for data analysis and data manipulation\n",
    "import numpy as np # library to work with arrays\n",
    "import re # library for data cleaning\n",
    "from IPython.display import HTML # display a pandas dataframe to HTML\n",
    "import seaborn as sns\n",
    "import matplotlib.pyplot as plt\n",
    "from collections import Counter\n",
    "import warnings\n",
    "from statistics import mean\n",
    "warnings.filterwarnings(\"ignore\", message=\"Workbook contains no default style, apply openpyxl's default\")"
   ]
  },
  {
   "cell_type": "markdown",
   "metadata": {},
   "source": [
    "## Read the dataset"
   ]
  },
  {
   "cell_type": "code",
   "execution_count": null,
   "metadata": {},
   "outputs": [],
   "source": [
    "df= pd.read_excel(r'responses.xlsx') #import dataset as pandas dataframe\n",
    "print('Dataset dimensions:',df.shape)"
   ]
  },
  {
   "cell_type": "markdown",
   "metadata": {},
   "source": [
    "## Find the columns with the same name and replace values to be equal to column names\n",
    "In some columns we have exactly the same name. This happens because we may ask similar questions that have same answers. \n",
    "Let say that we have the option \"brandA\" in to multiple questions. Then, the corresponding columns will interpret by Python like \"BrandA\",\"BrandA.1\",\"BrandA.2\" etc. But the answers will continue to be \"BrandA\" for all the questions.\n",
    "To run the code succesfully, we want all of them to have the same name.\n",
    "\n",
    "**Just run it without interaction!**"
   ]
  },
  {
   "cell_type": "code",
   "execution_count": null,
   "metadata": {},
   "outputs": [],
   "source": [
    "# Find the columns with the same name\n",
    "new_list = [item.split(\".\")[0] for item in list(df.columns)]\n",
    "\n",
    "counted_items = Counter(new_list)\n",
    "duplicates = []\n",
    "\n",
    "for item, count in counted_items.items():\n",
    "    if count > 1:\n",
    "        duplicates.append(item)\n",
    "print(duplicates)\n",
    "\n",
    "# Change the values of duplicates columns\n",
    "for col in df.columns:\n",
    "    for i in duplicates:\n",
    "        if i in col:\n",
    "            col_dict = {val: col for val in df[col].dropna().unique()}\n",
    "            df[col] = df[col].replace(col_dict)"
   ]
  },
  {
   "cell_type": "markdown",
   "metadata": {},
   "source": [
    "## Age coding\n",
    "It is very common that we want to group the age. You can adjust the ranges according your needs."
   ]
  },
  {
   "cell_type": "code",
   "execution_count": null,
   "metadata": {},
   "outputs": [],
   "source": [
    "def rename_values(val):\n",
    "    if val <= 30:\n",
    "         return '18-30'\n",
    "    elif val >= 31 and val <= 40:\n",
    "        return '31-40'\n",
    "    elif val >= 41 and val <= 50:\n",
    "        return '41-50'\n",
    "    else:\n",
    "        return '>50'\n",
    "\n",
    "# use the apply method to rename the values\n",
    "df['Ηλικία;'] = df['Ηλικία;'].apply(rename_values)"
   ]
  },
  {
   "cell_type": "markdown",
   "metadata": {},
   "source": [
    "## Dictionary"
   ]
  },
  {
   "cell_type": "markdown",
   "metadata": {},
   "source": [
    "We create a dictionary of our spreadsheet and that's because it is more efficient to write every time the index of the column we want to analyze instead of the whole question.\n",
    "\n",
    "**Just run it!**"
   ]
  },
  {
   "cell_type": "code",
   "execution_count": null,
   "metadata": {},
   "outputs": [],
   "source": [
    "#create 2 empty lists\n",
    "list1=[]\n",
    "list2=[]\n",
    "\n",
    "col=list(df.columns) #create a list with all the column names\n",
    "\n",
    "for i in col: # columns names\n",
    "    list1.append(i) # create a list with the column names\n",
    "    list2.append(col.index(i)) # create a list with indexes\n",
    "       \n",
    "res = dict(zip(list1,list2)) #μετατρέπει 2 λίστες σε λεξικό\n",
    "res"
   ]
  },
  {
   "cell_type": "markdown",
   "metadata": {},
   "source": [
    "## Specific orders \n",
    "\n",
    "As mentioned above, for the ordered questions we need to define the desired order we want to appear on the diagrams, tables.\n",
    "That's because this way we don't need to change them manually in every table!\n",
    "\n",
    "**Here there some modifations are needed every time you run the code!**\n",
    "\n",
    "The number (65,63 etc) indicates the index of the column that has a certain order. Next in the brackets you should write the right order.\n",
    "Here also you should define the questions that may have not certain order but you need to analyze with multiple questions.\n",
    "You write them like this: \n",
    "\n",
    "list(df.iloc[:, 66].value_counts().index)"
   ]
  },
  {
   "cell_type": "code",
   "execution_count": null,
   "metadata": {
    "code_folding": []
   },
   "outputs": [],
   "source": [
    "specific = {\n",
    "    65: [\"18-24\", \"25-30\"],  # Age\n",
    "    63: ['Άντρας', 'Γυναίκα'],  # Gender\n",
    "    66: list(df.iloc[:, 66].value_counts().index),  # Identity\n",
    "}\n",
    "# Create a dictionary with specific orders and their indexes\n",
    "lexico = specific.copy()\n",
    "lexico"
   ]
  },
  {
   "cell_type": "markdown",
   "metadata": {},
   "source": [
    "## Function for both ordered and no ordered simple questions\n",
    "\n",
    "**Just run it!**\n",
    "\n",
    "\n",
    "You call the function like this: func(input1,input2,input3)\n",
    "- **input 1:** main question: which question do you want to analyze?\n",
    "- **input 2:** define the specific order (if exists) as you defined it in the lexico above. If not, just enter \"\".\n",
    "- **input 3:** define the dataframe. May it is the initial may you should use a subset. It depends on your analysis needs.\n",
    "\n",
    "For example let say you want to analyze the question with index 1 that has as specific order \"days\" and you want crosstabs with the questions with index 10 and 15 and let say that the dataframe is called df.\n",
    "\n",
    "So you call the function: func(1,days,df) and then in the box appearing you enter 10 15.\n",
    "\n",
    "Then, after you call the function, it will be asked you to enter the indexes of the columns with which you want crosstabs.\n",
    "You can enter as many you want with a space between.\n",
    "Then the desired frequencies and crosstabs will appear!"
   ]
  },
  {
   "cell_type": "code",
   "execution_count": null,
   "metadata": {
    "code_folding": []
   },
   "outputs": [],
   "source": [
    "def func(main_question,order_of_main_question,new_df):\n",
    "    \n",
    "    \n",
    "    indexes_of_columns= input(\"Enter the indexes of the interested columns (separated by space) : \")\n",
    "    indexes_of_columns=indexes_of_columns.split() \n",
    "    indexes_of_columns = [eval(i) for i in indexes_of_columns]\n",
    "    \n",
    "    df=new_df\n",
    "    lista=[] # store all the pandas dataframes (frequencies and crosstabs)\n",
    "    \n",
    "        \n",
    "    if main_question in range(len(res)):\n",
    "        # frequency \n",
    "        freq=pd.DataFrame(df.iloc[:,main_question].value_counts(normalize=True).round(2)*100)\n",
    "        freq=freq.astype(str).applymap(lambda x:x + '%')\n",
    "        \n",
    "        if order_of_main_question in specific :\n",
    "                display(freq.reindex(order_of_main_question))\n",
    "        else:\n",
    "                display(freq)\n",
    "     \n",
    "        \n",
    "        # crosstabs\n",
    "        for i in indexes_of_columns: \n",
    "                if i in list((lexico.keys())):\n",
    "                    crosst0=pd.crosstab(df.iloc[:,main_question],df.iloc[:,i],normalize='columns').reindex(columns=lexico[i]) \n",
    "                else:\n",
    "                    crosst0=pd.crosstab(df.iloc[:,main_question],df.iloc[:,i],normalize='columns')       \n",
    "                   \n",
    "                for col in range(len(crosst0.columns)):\n",
    "                        crosst0.iloc[:,col]= np.round(crosst0.iloc[:,col],decimals = 2)*100  \n",
    "                        \n",
    "                lista.append(crosst0)\n",
    "                \n",
    "        for j in range(len(lista)):\n",
    "            if order_of_main_question in specific :\n",
    "                display(lista[j].reindex(index=list(order_of_main_question)))\n",
    "            else:\n",
    "                display(lista[j].reindex(index=list(freq.index.values)))\n",
    "\n",
    "              \n",
    "         # return the tables       \n",
    "    return "
   ]
  },
  {
   "cell_type": "markdown",
   "metadata": {},
   "source": [
    "## Function for both ordered and no ordered multiple questions\n",
    "\n",
    "**Just run it!**\n",
    "\n",
    "When a question has multiple choices, each choice is a column. So:\n",
    "You call the function like this: multiple(input1,input2,input3)\n",
    "- **input 1:** the index of first column (first choice of the corresponding question - you find it on above lexico)\n",
    "- **input 2:** the index of second column + 1 ! (last choice of the corresponding question - you find it on above lexico (+1 because python counts from zero)\n",
    "- **input 3:** define the dataframe. May it is the initial may you should use a subset. It depends on your analysis needs.\n",
    "\n",
    "For example let say you want to analyze the multiple question that its answers are in the columns 10 until 15 and you want crosstabs with the questions with index 10 and 15 and let say that the dataframe is called df.\n",
    "\n",
    "So you call the function: multiple(10,16,df) and then in the box appearing you enter 10 15.\n",
    "\n",
    "Then, after you call the function, it will be asked you to enter the indexes of the columns with which you want crosstabs.\n",
    "You can enter as many you want with a space between.\n",
    "Then the desired frequencies and crosstabs will appear!"
   ]
  },
  {
   "cell_type": "code",
   "execution_count": null,
   "metadata": {},
   "outputs": [],
   "source": [
    "def multiple(i,j,df):\n",
    "    \n",
    "    \n",
    "    indexes_of_columns= input(\"Enter the indexes questions for crosstabs (separated by space) : \")\n",
    "    indexes_of_columns=indexes_of_columns.split() # convert the input into a list\n",
    "    indexes_of_columns = [eval(i) for i in indexes_of_columns] # strings into integers\n",
    "    \n",
    "    \n",
    "    lista=[]\n",
    "    \n",
    "    # Frequencies\n",
    "    \n",
    "    new_df=df \n",
    "    new_df=new_df.iloc[:, i:j]  \n",
    "    new_df=new_df.dropna(axis = 0, how = 'all') \n",
    "    \n",
    "    variables = new_df.columns \n",
    "    \n",
    "    frequency = [] \n",
    "    names = [] \n",
    "    percentage = []\n",
    "     \n",
    "    for i in variables:    \n",
    "        frequency.append(sum(1 if (x == i) else 0  for x in new_df[i])) #finds the frequencies\n",
    "        names.append(i)\n",
    "    \n",
    "    for i in frequency:\n",
    "        percentage.append(round(i/new_df.shape[0],2)* 100) # finds the valid percentages\n",
    "     \n",
    "    a=pd.DataFrame(list(zip(names,percentage)),columns=['','Frequency'],index=None) #pandas dataframe with frequencies\n",
    "    a=a.sort_values('Frequency',ascending=False)\n",
    "    display(HTML(a.to_html(index=False)))\n",
    "    \n",
    "    # Crosstabs\n",
    "    \n",
    "    for i in indexes_of_columns : \n",
    "\n",
    "        independant_cols=list(a.iloc[:,0])  \n",
    "        cols  = [df.iloc[:,i].name] + list(a.iloc[:,0]) \n",
    "        groupings = (df[cols].groupby(df.iloc[:,i]).count())\n",
    "    \n",
    "        for x in list(a.iloc[:,0]) :\n",
    "            groupings['{} '.format(x)] = round(groupings[x]/groupings.iloc[:,0]*100,0)\n",
    "            groupings = groupings.drop(columns = [x])\n",
    "            groupings  \n",
    "            g1=groupings.reindex(lexico[i])     \n",
    "       \n",
    "        lista.append(g1)\n",
    "    \n",
    "               \n",
    "    for j in range(len(lista)):\n",
    "        display(lista[j].T)\n",
    "              \n",
    "       \n",
    "    return "
   ]
  },
  {
   "cell_type": "markdown",
   "metadata": {},
   "source": [
    "## Tip: \n",
    "Save the file in a folder and make the adjustments. Then open a new ipynb file in the same folder and in the first cell run:\n",
    "\n",
    "**%run [name_of_current_file]ipynb # run an other Jupyter Notebook**\n",
    "\n",
    "This way you can have only the outputs in your file to be more tidy."
   ]
  }
 ],
 "metadata": {
  "kernelspec": {
   "display_name": "Python 3 (ipykernel)",
   "language": "python",
   "name": "python3"
  },
  "language_info": {
   "codemirror_mode": {
    "name": "ipython",
    "version": 3
   },
   "file_extension": ".py",
   "mimetype": "text/x-python",
   "name": "python",
   "nbconvert_exporter": "python",
   "pygments_lexer": "ipython3",
   "version": "3.11.5"
  },
  "toc": {
   "base_numbering": 1,
   "nav_menu": {},
   "number_sections": true,
   "sideBar": true,
   "skip_h1_title": true,
   "title_cell": "Table of Contents",
   "title_sidebar": "Contents",
   "toc_cell": false,
   "toc_position": {
    "height": "541.597px",
    "left": "47px",
    "top": "110.806px",
    "width": "165px"
   },
   "toc_section_display": true,
   "toc_window_display": false
  },
  "varInspector": {
   "cols": {
    "lenName": 16,
    "lenType": 16,
    "lenVar": 40
   },
   "kernels_config": {
    "python": {
     "delete_cmd_postfix": "",
     "delete_cmd_prefix": "del ",
     "library": "var_list.py",
     "varRefreshCmd": "print(var_dic_list())"
    },
    "r": {
     "delete_cmd_postfix": ") ",
     "delete_cmd_prefix": "rm(",
     "library": "var_list.r",
     "varRefreshCmd": "cat(var_dic_list()) "
    }
   },
   "types_to_exclude": [
    "module",
    "function",
    "builtin_function_or_method",
    "instance",
    "_Feature"
   ],
   "window_display": false
  }
 },
 "nbformat": 4,
 "nbformat_minor": 4
}
